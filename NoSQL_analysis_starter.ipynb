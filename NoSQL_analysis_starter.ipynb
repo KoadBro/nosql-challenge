{
 "cells": [
  {
   "cell_type": "markdown",
   "id": "9a57c4c6",
   "metadata": {},
   "source": [
    "# Eat Safe, Love"
   ]
  },
  {
   "cell_type": "markdown",
   "id": "064ef857",
   "metadata": {},
   "source": [
    "## Notebook Set Up"
   ]
  },
  {
   "cell_type": "code",
   "execution_count": 1,
   "id": "3ecdd008",
   "metadata": {},
   "outputs": [],
   "source": [
    "# Import dependencies\n",
    "from pymongo import MongoClient\n",
    "from pprint import pprint\n"
   ]
  },
  {
   "cell_type": "code",
   "execution_count": 2,
   "id": "59390c4a",
   "metadata": {},
   "outputs": [],
   "source": [
    "# Create an instance of MongoClient\n",
    "mongo = MongoClient(port=27017)"
   ]
  },
  {
   "cell_type": "code",
   "execution_count": 3,
   "id": "71e373c1",
   "metadata": {},
   "outputs": [],
   "source": [
    "# assign the uk_food database to a variable name\n",
    "db = mongo['uk_food']"
   ]
  },
  {
   "cell_type": "code",
   "execution_count": 4,
   "id": "18ab463c",
   "metadata": {},
   "outputs": [
    {
     "name": "stdout",
     "output_type": "stream",
     "text": [
      "['establishments']\n"
     ]
    }
   ],
   "source": [
    "# review the collections in our database\n",
    "collections = db.list_collection_names()\n",
    "print(collections)"
   ]
  },
  {
   "cell_type": "code",
   "execution_count": 5,
   "id": "11c9f11b",
   "metadata": {},
   "outputs": [],
   "source": [
    "# assign the collection to a variable\n",
    "establishments = db['establishments']"
   ]
  },
  {
   "cell_type": "markdown",
   "id": "d5671434",
   "metadata": {},
   "source": [
    "## Part 3: Exploratory Analysis\n",
    "Unless otherwise stated, for each question: \n",
    "* Use `count_documents` to display the number of documents contained in the result.\n",
    "* Display the first document in the results using `pprint`.\n",
    "* Convert the result to a Pandas DataFrame, print the number of rows in the DataFrame, and display the first 10 rows."
   ]
  },
  {
   "cell_type": "markdown",
   "id": "314bd884",
   "metadata": {},
   "source": [
    "### 1. Which establishments have a hygiene score equal to 20?"
   ]
  },
  {
   "cell_type": "code",
   "execution_count": 6,
   "id": "c2da7648",
   "metadata": {},
   "outputs": [
    {
     "name": "stdout",
     "output_type": "stream",
     "text": [
      "Number of establishments with a hygiene score of 20: 41\n"
     ]
    }
   ],
   "source": [
    "# Find the establishments with a hygiene score of 20\n",
    "hygiene_query = {\"scores.Hygiene\": 20}\n",
    "hygiene_results = establishments.find(hygiene_query)\n",
    "\n",
    "# Use count_documents to display the number of documents in the result\n",
    "count = establishments.count_documents(hygiene_query)\n",
    "\n",
    "print(f\"Number of establishments with a hygiene score of 20: {count}\")"
   ]
  },
  {
   "cell_type": "code",
   "execution_count": 7,
   "id": "e3eeafaa",
   "metadata": {},
   "outputs": [
    {
     "name": "stdout",
     "output_type": "stream",
     "text": [
      "{'AddressLine1': '5-6 Southfields Road',\n",
      " 'AddressLine2': 'Eastbourne',\n",
      " 'AddressLine3': 'East Sussex',\n",
      " 'AddressLine4': '',\n",
      " 'BusinessName': 'The Chase Rest Home',\n",
      " 'BusinessType': 'Caring Premises',\n",
      " 'BusinessTypeID': 5,\n",
      " 'ChangesByServerID': 0,\n",
      " 'Distance': 4613.888288172291,\n",
      " 'FHRSID': 110681,\n",
      " 'LocalAuthorityBusinessID': '4029',\n",
      " 'LocalAuthorityCode': '102',\n",
      " 'LocalAuthorityEmailAddress': 'Customerfirst@eastbourne.gov.uk',\n",
      " 'LocalAuthorityName': 'Eastbourne',\n",
      " 'LocalAuthorityWebSite': 'http://www.eastbourne.gov.uk/foodratings',\n",
      " 'NewRatingPending': False,\n",
      " 'Phone': '',\n",
      " 'PostCode': 'BN21 1BU',\n",
      " 'RatingDate': '2021-09-23T00:00:00',\n",
      " 'RatingKey': 'fhrs_0_en-gb',\n",
      " 'RatingValue': '0',\n",
      " 'RightToReply': '',\n",
      " 'SchemeType': 'FHRS',\n",
      " '_id': ObjectId('64ffbe57e92dc903a3966f92'),\n",
      " 'geocode': {'latitude': '50.769705', 'longitude': '0.27694'},\n",
      " 'links': [{'href': 'https://api.ratings.food.gov.uk/establishments/110681',\n",
      "            'rel': 'self'}],\n",
      " 'meta': {'dataSource': None,\n",
      "          'extractDate': '0001-01-01T00:00:00',\n",
      "          'itemCount': 0,\n",
      "          'pageNumber': 0,\n",
      "          'pageSize': 0,\n",
      "          'returncode': None,\n",
      "          'totalCount': 0,\n",
      "          'totalPages': 0},\n",
      " 'scores': {'ConfidenceInManagement': 20, 'Hygiene': 20, 'Structural': 20}}\n"
     ]
    }
   ],
   "source": [
    "# Display the first document in the results using pprint\n",
    "\n",
    "pprint(hygiene_results[0])"
   ]
  },
  {
   "cell_type": "code",
   "execution_count": 8,
   "id": "a6e5cece",
   "metadata": {},
   "outputs": [
    {
     "name": "stdout",
     "output_type": "stream",
     "text": [
      "Number of rows in DataFrame: 41\n",
      "                        _id   FHRSID  ChangesByServerID  \\\n",
      "0  64ffbe57e92dc903a3966f92   110681                  0   \n",
      "1  64ffbe58e92dc903a3967313   612039                  0   \n",
      "2  64ffbe58e92dc903a396761d   730933                  0   \n",
      "3  64ffbe58e92dc903a396780b   172735                  0   \n",
      "4  64ffbe58e92dc903a396781a   172953                  0   \n",
      "5  64ffbe59e92dc903a39681b9   512854                  0   \n",
      "6  64ffbe59e92dc903a39683da  1537089                  0   \n",
      "7  64ffbe5be92dc903a3969905   155648                  0   \n",
      "8  64ffbe5ce92dc903a3969d49  1012883                  0   \n",
      "9  64ffbe5ce92dc903a396a55b   644109                  0   \n",
      "\n",
      "  LocalAuthorityBusinessID               BusinessName  \\\n",
      "0                     4029        The Chase Rest Home   \n",
      "1                1970/FOOD                 Brenalwood   \n",
      "2                1698/FOOD              Melrose Hotel   \n",
      "3             PI/000023858              Seaford Pizza   \n",
      "4             PI/000024532              Golden Palace   \n",
      "5            12/00816/BUTH           Ashby's Butchers   \n",
      "6          22/00224/RESTUN  South Sea Express Cuisine   \n",
      "7              EH/00006058              Golden Palace   \n",
      "8         17/00110/MIXED/S             The Tulip Tree   \n",
      "9                    41811                      F & S   \n",
      "\n",
      "                        BusinessType  BusinessTypeID           AddressLine1  \\\n",
      "0                    Caring Premises               5   5-6 Southfields Road   \n",
      "1                    Caring Premises               5              Hall Lane   \n",
      "2  Hotel/bed & breakfast/guest house            7842  53 Marine Parade East   \n",
      "3             Takeaway/sandwich shop            7844          4 High Street   \n",
      "4            Restaurant/Cafe/Canteen               1         5 South Street   \n",
      "5                  Retailers - other            4613   777 Southchurch Road   \n",
      "6            Restaurant/Cafe/Canteen               1    33 Alexandra Street   \n",
      "7             Takeaway/sandwich shop            7844          7 London Road   \n",
      "8            Restaurant/Cafe/Canteen               1          3 The Village   \n",
      "9                  Retailers - other            4613                          \n",
      "\n",
      "         AddressLine2 AddressLine3  ...  \\\n",
      "0          Eastbourne  East Sussex  ...   \n",
      "1  Walton-on-the-Naze        Essex  ...   \n",
      "2      Clacton On Sea        Essex  ...   \n",
      "3             Seaford  East Sussex  ...   \n",
      "4             Seaford  East Sussex  ...   \n",
      "5     Southend-On-Sea        Essex  ...   \n",
      "6     Southend-on-sea        Essex  ...   \n",
      "7            Rayleigh        Essex  ...   \n",
      "8       Chiddingstone         KENT  ...   \n",
      "9      81 Southernhay     Basildon  ...   \n",
      "\n",
      "                      LocalAuthorityWebSite  \\\n",
      "0  http://www.eastbourne.gov.uk/foodratings   \n",
      "1             http://www.tendringdc.gov.uk/   \n",
      "2             http://www.tendringdc.gov.uk/   \n",
      "3       http://www.lewes-eastbourne.gov.uk/   \n",
      "4       http://www.lewes-eastbourne.gov.uk/   \n",
      "5                http://www.southend.gov.uk   \n",
      "6                http://www.southend.gov.uk   \n",
      "7                http://www.rochford.gov.uk   \n",
      "8              http://www.sevenoaks.gov.uk/   \n",
      "9                http://www.basildon.gov.uk   \n",
      "\n",
      "              LocalAuthorityEmailAddress  \\\n",
      "0        Customerfirst@eastbourne.gov.uk   \n",
      "1             fhsadmin@tendringdc.gov.uk   \n",
      "2             fhsadmin@tendringdc.gov.uk   \n",
      "3    ehealth.ldc@lewes-eastbourne.gov.uk   \n",
      "4    ehealth.ldc@lewes-eastbourne.gov.uk   \n",
      "5    EnvironmentalHealth@southend.gov.uk   \n",
      "6    EnvironmentalHealth@southend.gov.uk   \n",
      "7       customerservices@rochford.gov.uk   \n",
      "8  environmental.health@sevenoaks.gov.uk   \n",
      "9                    ehs@basildon.gov.uk   \n",
      "\n",
      "                                              scores SchemeType  \\\n",
      "0  {'Hygiene': 20, 'Structural': 20, 'ConfidenceI...       FHRS   \n",
      "1  {'Hygiene': 20, 'Structural': 15, 'ConfidenceI...       FHRS   \n",
      "2  {'Hygiene': 20, 'Structural': 20, 'ConfidenceI...       FHRS   \n",
      "3  {'Hygiene': 20, 'Structural': 10, 'ConfidenceI...       FHRS   \n",
      "4  {'Hygiene': 20, 'Structural': 10, 'ConfidenceI...       FHRS   \n",
      "5  {'Hygiene': 20, 'Structural': 20, 'ConfidenceI...       FHRS   \n",
      "6  {'Hygiene': 20, 'Structural': 20, 'ConfidenceI...       FHRS   \n",
      "7  {'Hygiene': 20, 'Structural': 15, 'ConfidenceI...       FHRS   \n",
      "8  {'Hygiene': 20, 'Structural': 5, 'ConfidenceIn...       FHRS   \n",
      "9  {'Hygiene': 20, 'Structural': 20, 'ConfidenceI...       FHRS   \n",
      "\n",
      "                                             geocode RightToReply  \\\n",
      "0  {'longitude': '0.27694', 'latitude': '50.769705'}                \n",
      "1  {'longitude': '1.278721', 'latitude': '51.8575...                \n",
      "2  {'longitude': '1.15927', 'latitude': '51.789429'}                \n",
      "3  {'longitude': '0.10202', 'latitude': '50.770885'}                \n",
      "4  {'longitude': '0.101446', 'latitude': '50.7707...                \n",
      "5  {'longitude': '0.736349', 'latitude': '51.5414...                \n",
      "6  {'longitude': '0.7121671', 'latitude': '51.535...                \n",
      "7  {'longitude': '0.602364', 'latitude': '51.5915...                \n",
      "8  {'longitude': '0.146449998021126', 'latitude':...                \n",
      "9  {'longitude': '0.462307', 'latitude': '51.57005'}                \n",
      "\n",
      "      Distance NewRatingPending  \\\n",
      "0  4613.888288            False   \n",
      "1  4617.965824            False   \n",
      "2  4619.656144            False   \n",
      "3  4620.421725            False   \n",
      "4  4620.437179            False   \n",
      "5  4625.565258            False   \n",
      "6  4626.200132            False   \n",
      "7  4632.276890            False   \n",
      "8  4633.934041            False   \n",
      "9  4636.552523            False   \n",
      "\n",
      "                                                meta  \\\n",
      "0  {'dataSource': None, 'extractDate': '0001-01-0...   \n",
      "1  {'dataSource': None, 'extractDate': '0001-01-0...   \n",
      "2  {'dataSource': None, 'extractDate': '0001-01-0...   \n",
      "3  {'dataSource': None, 'extractDate': '0001-01-0...   \n",
      "4  {'dataSource': None, 'extractDate': '0001-01-0...   \n",
      "5  {'dataSource': None, 'extractDate': '0001-01-0...   \n",
      "6  {'dataSource': None, 'extractDate': '0001-01-0...   \n",
      "7  {'dataSource': None, 'extractDate': '0001-01-0...   \n",
      "8  {'dataSource': None, 'extractDate': '0001-01-0...   \n",
      "9  {'dataSource': None, 'extractDate': '0001-01-0...   \n",
      "\n",
      "                                               links  \n",
      "0  [{'rel': 'self', 'href': 'https://api.ratings....  \n",
      "1  [{'rel': 'self', 'href': 'https://api.ratings....  \n",
      "2  [{'rel': 'self', 'href': 'https://api.ratings....  \n",
      "3  [{'rel': 'self', 'href': 'https://api.ratings....  \n",
      "4  [{'rel': 'self', 'href': 'https://api.ratings....  \n",
      "5  [{'rel': 'self', 'href': 'https://api.ratings....  \n",
      "6  [{'rel': 'self', 'href': 'https://api.ratings....  \n",
      "7  [{'rel': 'self', 'href': 'http://api.ratings.f...  \n",
      "8  [{'rel': 'self', 'href': 'http://api.ratings.f...  \n",
      "9  [{'rel': 'self', 'href': 'http://api.ratings.f...  \n",
      "\n",
      "[10 rows x 28 columns]\n"
     ]
    }
   ],
   "source": [
    "import pandas as pd\n",
    "\n",
    "# Convert the result to a Pandas DataFrame\n",
    "df = pd.DataFrame(list(hygiene_results))\n",
    "\n",
    "# Display the number of rows in the DataFrame\n",
    "print(f\"Number of rows in DataFrame: {len(df)}\")\n",
    "\n",
    "# Display the first 10 rows of the DataFrame\n",
    "print(df.head(10))\n"
   ]
  },
  {
   "cell_type": "markdown",
   "id": "0ef4395a",
   "metadata": {},
   "source": [
    "### 2. Which establishments in London have a `RatingValue` greater than or equal to 4?"
   ]
  },
  {
   "cell_type": "code",
   "execution_count": 9,
   "id": "bfbe5d7e",
   "metadata": {},
   "outputs": [],
   "source": [
    "data_mongo = establishments.find()\n",
    "cities = set()\n",
    "for row in data_mongo:\n",
    "    if 'LocalAuthorityName' in row:\n",
    "        cities.add(row['LocalAuthorityName'])"
   ]
  },
  {
   "cell_type": "code",
   "execution_count": 10,
   "id": "6cdeb8a2",
   "metadata": {},
   "outputs": [],
   "source": [
    "data_mongo = establishments.find({ \"LocalAuthorityName\": \"London\" })\n",
    "for row in data_mongo:\n",
    "    print(row, '\\n')"
   ]
  },
  {
   "cell_type": "code",
   "execution_count": 11,
   "id": "93c63829",
   "metadata": {},
   "outputs": [
    {
     "name": "stdout",
     "output_type": "stream",
     "text": [
      "{'AddressLine1': 'Oak Apple Farm Building 103 Sheernes Docks',\n",
      " 'AddressLine2': 'Sheppy Kent',\n",
      " 'AddressLine3': '',\n",
      " 'AddressLine4': '',\n",
      " 'BusinessName': \"Charlie's\",\n",
      " 'BusinessType': 'Other catering premises',\n",
      " 'BusinessTypeID': 7841,\n",
      " 'ChangesByServerID': 0,\n",
      " 'Distance': 4627.439467780196,\n",
      " 'FHRSID': 621707,\n",
      " 'LocalAuthorityBusinessID': 'PI/000025307',\n",
      " 'LocalAuthorityCode': '508',\n",
      " 'LocalAuthorityEmailAddress': 'publicprotection@cityoflondon.gov.uk',\n",
      " 'LocalAuthorityName': 'City of London Corporation',\n",
      " 'LocalAuthorityWebSite': 'http://www.cityoflondon.gov.uk/Corporation/homepage.htm',\n",
      " 'NewRatingPending': False,\n",
      " 'Phone': '',\n",
      " 'PostCode': 'ME12',\n",
      " 'RatingDate': '2021-10-18T00:00:00',\n",
      " 'RatingKey': 'fhrs_4_en-gb',\n",
      " 'RatingValue': '4',\n",
      " 'RightToReply': '',\n",
      " 'SchemeType': 'FHRS',\n",
      " '_id': ObjectId('64ffbe5ae92dc903a39689ad'),\n",
      " 'geocode': {'latitude': '51.369321', 'longitude': '0.508551'},\n",
      " 'links': [{'href': 'https://api.ratings.food.gov.uk/establishments/621707',\n",
      "            'rel': 'self'}],\n",
      " 'meta': {'dataSource': None,\n",
      "          'extractDate': '0001-01-01T00:00:00',\n",
      "          'itemCount': 0,\n",
      "          'pageNumber': 0,\n",
      "          'pageSize': 0,\n",
      "          'returncode': None,\n",
      "          'totalCount': 0,\n",
      "          'totalPages': 0},\n",
      " 'scores': {'ConfidenceInManagement': 5, 'Hygiene': 5, 'Structural': 10}}\n"
     ]
    }
   ],
   "source": [
    "# Find the establishments with London as the Local Authority and has a RatingValue greater than or equal to 4.\n",
    "london_results_cursor = establishments.find({\n",
    "    \"LocalAuthorityName\": \"City of London Corporation\"\n",
    "#     \"RatingValue\": {\"$gte\": 4}\n",
    "})\n",
    "\n",
    "\n",
    "london_results_list = list(london_results_cursor)\n",
    "\n",
    "# Use count_documents to display the number of documents in the result\n",
    "count = len(london_results_list)\n",
    "\n",
    "# Display the first document in the results using pprint\n",
    "pprint(london_results_list[0] if london_results_list else \"No results found\")\n"
   ]
  },
  {
   "cell_type": "code",
   "execution_count": 12,
   "id": "07e24ccb",
   "metadata": {},
   "outputs": [
    {
     "name": "stdout",
     "output_type": "stream",
     "text": [
      "Number of rows in DataFrame: 37\n",
      "                        _id   FHRSID  ChangesByServerID  \\\n",
      "0  64ffbe5ae92dc903a39689ad   621707                  0   \n",
      "1  64ffbe5ae92dc903a3968cd3  1130836                  0   \n",
      "2  64ffbe5be92dc903a3969820   293783                  0   \n",
      "3  64ffbe5ce92dc903a3969e2d  1523645                  0   \n",
      "4  64ffbe5ce92dc903a396a620  1315095                  0   \n",
      "5  64ffbe5ce92dc903a396a621   294474                  0   \n",
      "6  64ffbe5de92dc903a396ad29   294900                  0   \n",
      "7  64ffbe60e92dc903a396ce33  1252616                  0   \n",
      "8  64ffbe60e92dc903a396ce37   293756                  0   \n",
      "9  64ffbe60e92dc903a396d1fe   878523                  0   \n",
      "\n",
      "  LocalAuthorityBusinessID                          BusinessName  \\\n",
      "0             PI/000025307                             Charlie's   \n",
      "1             PI/000034075               Mv City Cruises Erasmus   \n",
      "2             PI/000002614             Benfleet Motor Yacht Club   \n",
      "3             PI/000038853                       Gourmet Kitchen   \n",
      "4             PI/000036464  Coombs Catering t/a The Lock and Key   \n",
      "5             PI/000014647              Tilbury Seafarers Centre   \n",
      "6             PI/000019066                            Mv Valulla   \n",
      "7             PI/000035653                             Froottree   \n",
      "8             PI/000002538                         Tereza Joanne   \n",
      "9             PI/000029844                      Brick Lane Brews   \n",
      "\n",
      "              BusinessType  BusinessTypeID  \\\n",
      "0  Other catering premises            7841   \n",
      "1  Other catering premises            7841   \n",
      "2  Other catering premises            7841   \n",
      "3   Takeaway/sandwich shop            7844   \n",
      "4  Restaurant/Cafe/Canteen               1   \n",
      "5  Restaurant/Cafe/Canteen               1   \n",
      "6  Other catering premises            7841   \n",
      "7  Other catering premises            7841   \n",
      "8  Other catering premises            7841   \n",
      "9  Restaurant/Cafe/Canteen               1   \n",
      "\n",
      "                                        AddressLine1  \\\n",
      "0         Oak Apple Farm Building 103 Sheernes Docks   \n",
      "1                                 Cherry Garden Pier   \n",
      "2                                         Ferry Road   \n",
      "3                                   1 London Gateway   \n",
      "4                                  Leslie Ford House   \n",
      "5                          Tenants Row Tilbury Docks   \n",
      "6  Reeds River Cruises LtdKings ReachRiver Thames...   \n",
      "7                   Tereza Joanne King George V Lock   \n",
      "8  Funcraft UK Ltd King George V Dock Woolwich Ma...   \n",
      "9                       Air side London City Airport   \n",
      "\n",
      "                            AddressLine2 AddressLine3  ...  \\\n",
      "0                            Sheppy Kent               ...   \n",
      "1       Cherry Garden Street Rotherhithe     Charlton  ...   \n",
      "2                   South Benfleet Essex               ...   \n",
      "3  London Gateway Drive Stanford-Le-Hope               ...   \n",
      "4                                Tilbury     Charlton  ...   \n",
      "5                          Tilbury Essex               ...   \n",
      "6                                 London               ...   \n",
      "7              Woolwich Manor Way London     Charlton  ...   \n",
      "8                                 London               ...   \n",
      "9                                 London               ...   \n",
      "\n",
      "                               LocalAuthorityWebSite  \\\n",
      "0  http://www.cityoflondon.gov.uk/Corporation/hom...   \n",
      "1  http://www.cityoflondon.gov.uk/Corporation/hom...   \n",
      "2  http://www.cityoflondon.gov.uk/Corporation/hom...   \n",
      "3  http://www.cityoflondon.gov.uk/Corporation/hom...   \n",
      "4  http://www.cityoflondon.gov.uk/Corporation/hom...   \n",
      "5  http://www.cityoflondon.gov.uk/Corporation/hom...   \n",
      "6  http://www.cityoflondon.gov.uk/Corporation/hom...   \n",
      "7  http://www.cityoflondon.gov.uk/Corporation/hom...   \n",
      "8  http://www.cityoflondon.gov.uk/Corporation/hom...   \n",
      "9  http://www.cityoflondon.gov.uk/Corporation/hom...   \n",
      "\n",
      "             LocalAuthorityEmailAddress  \\\n",
      "0  publicprotection@cityoflondon.gov.uk   \n",
      "1  publicprotection@cityoflondon.gov.uk   \n",
      "2  publicprotection@cityoflondon.gov.uk   \n",
      "3  publicprotection@cityoflondon.gov.uk   \n",
      "4  publicprotection@cityoflondon.gov.uk   \n",
      "5  publicprotection@cityoflondon.gov.uk   \n",
      "6  publicprotection@cityoflondon.gov.uk   \n",
      "7  publicprotection@cityoflondon.gov.uk   \n",
      "8  publicprotection@cityoflondon.gov.uk   \n",
      "9  publicprotection@cityoflondon.gov.uk   \n",
      "\n",
      "                                              scores SchemeType  \\\n",
      "0  {'Hygiene': 5, 'Structural': 10, 'ConfidenceIn...       FHRS   \n",
      "1  {'Hygiene': 0, 'Structural': 5, 'ConfidenceInM...       FHRS   \n",
      "2  {'Hygiene': 0, 'Structural': 0, 'ConfidenceInM...       FHRS   \n",
      "3  {'Hygiene': 5, 'Structural': 10, 'ConfidenceIn...       FHRS   \n",
      "4  {'Hygiene': 0, 'Structural': 5, 'ConfidenceInM...       FHRS   \n",
      "5  {'Hygiene': 0, 'Structural': 0, 'ConfidenceInM...       FHRS   \n",
      "6  {'Hygiene': 0, 'Structural': 0, 'ConfidenceInM...       FHRS   \n",
      "7  {'Hygiene': None, 'Structural': None, 'Confide...       FHRS   \n",
      "8  {'Hygiene': 0, 'Structural': 5, 'ConfidenceInM...       FHRS   \n",
      "9  {'Hygiene': 10, 'Structural': 5, 'ConfidenceIn...       FHRS   \n",
      "\n",
      "                                             geocode RightToReply  \\\n",
      "0  {'longitude': '0.508551', 'latitude': '51.3693...                \n",
      "1  {'longitude': '0.249255999922752', 'latitude':...                \n",
      "2  {'longitude': '0.561954', 'latitude': '51.5438...                \n",
      "3  {'longitude': '0.4596371', 'latitude': '51.510...                \n",
      "4  {'longitude': '0.346336990594864', 'latitude':...                \n",
      "5  {'longitude': '0.346325', 'latitude': '51.4640...                \n",
      "6  {'longitude': '0.287555', 'latitude': '51.5040...                \n",
      "7  {'longitude': '0.0693250000476837', 'latitude'...                \n",
      "8  {'longitude': '0.069286', 'latitude': '51.5011...                \n",
      "9  {'longitude': '0.048006', 'latitude': '51.5037...                \n",
      "\n",
      "      Distance NewRatingPending  \\\n",
      "0  4627.439468            False   \n",
      "1  4627.873179            False   \n",
      "2  4631.968418            False   \n",
      "3  4634.428121            False   \n",
      "4  4636.846754            False   \n",
      "5  4636.847650            False   \n",
      "6  4640.460834            False   \n",
      "7  4648.300000            False   \n",
      "8  4648.301822            False   \n",
      "9  4649.173485            False   \n",
      "\n",
      "                                                meta  \\\n",
      "0  {'dataSource': None, 'extractDate': '0001-01-0...   \n",
      "1  {'dataSource': None, 'extractDate': '0001-01-0...   \n",
      "2  {'dataSource': None, 'extractDate': '0001-01-0...   \n",
      "3  {'dataSource': None, 'extractDate': '0001-01-0...   \n",
      "4  {'dataSource': None, 'extractDate': '0001-01-0...   \n",
      "5  {'dataSource': None, 'extractDate': '0001-01-0...   \n",
      "6  {'dataSource': None, 'extractDate': '0001-01-0...   \n",
      "7  {'dataSource': None, 'extractDate': '0001-01-0...   \n",
      "8  {'dataSource': None, 'extractDate': '0001-01-0...   \n",
      "9  {'dataSource': None, 'extractDate': '0001-01-0...   \n",
      "\n",
      "                                               links  \n",
      "0  [{'rel': 'self', 'href': 'https://api.ratings....  \n",
      "1  [{'rel': 'self', 'href': 'http://api.ratings.f...  \n",
      "2  [{'rel': 'self', 'href': 'http://api.ratings.f...  \n",
      "3  [{'rel': 'self', 'href': 'http://api.ratings.f...  \n",
      "4  [{'rel': 'self', 'href': 'http://api.ratings.f...  \n",
      "5  [{'rel': 'self', 'href': 'http://api.ratings.f...  \n",
      "6  [{'rel': 'self', 'href': 'http://api.ratings.f...  \n",
      "7  [{'rel': 'self', 'href': 'http://api.ratings.f...  \n",
      "8  [{'rel': 'self', 'href': 'http://api.ratings.f...  \n",
      "9  [{'rel': 'self', 'href': 'http://api.ratings.f...  \n",
      "\n",
      "[10 rows x 28 columns]\n"
     ]
    }
   ],
   "source": [
    "# Convert the result to a Pandas DataFrame\n",
    "df = pd.DataFrame(london_results_list)\n",
    "\n",
    "# Display the number of rows in the DataFrame\n",
    "print(f\"Number of rows in DataFrame: {len(df)}\")\n",
    "\n",
    "# Display the first 10 rows of the DataFrame\n",
    "print(df.head(10))\n"
   ]
  },
  {
   "cell_type": "markdown",
   "id": "4e570caf",
   "metadata": {},
   "source": [
    "### 3. What are the top 5 establishments with a `RatingValue` rating value of 5, sorted by lowest hygiene score, nearest to the new restaurant added, \"Penang Flavours\"?"
   ]
  },
  {
   "cell_type": "code",
   "execution_count": 16,
   "id": "7f599f3d",
   "metadata": {},
   "outputs": [
    {
     "name": "stdout",
     "output_type": "stream",
     "text": [
      "Latitude or Longitude for Penang Flavours is missing!\n"
     ]
    }
   ],
   "source": [
    "# 1. Get the geocode of \"Penang Flavours\"\n",
    "penang_flavours = establishments.find_one({\"BusinessName\": \"Penang Flavours\"})\n",
    "\n",
    "if not penang_flavours:\n",
    "    print(\"Penang Flavours not found in the database!\")\n",
    "else:\n",
    "    latitude = penang_flavours.get(\"geocode\", {}).get(\"latitude\")\n",
    "    longitude = penang_flavours.get(\"geocode\", {}).get(\"longitude\")\n",
    "\n",
    "    if not latitude or not longitude:\n",
    "        print(\"Latitude or Longitude for Penang Flavours is missing!\")\n",
    "    else:\n",
    "        # 2. Find establishments with the specified criteria\n",
    "        top_establishments = establishments.find({\n",
    "            \"RatingValue\": 5,\n",
    "            \"geocode.latitude\": {\"$gte\": latitude - 0.01, \"$lte\": latitude + 0.01},\n",
    "            \"geocode.longitude\": {\"$gte\": longitude - 0.01, \"$lte\": longitude + 0.01}\n",
    "        }).sort(\"HygieneScore\", 1).limit(5)  # sort by hygiene score in ascending order and limit to top 5\n",
    "\n",
    "        # Display results\n",
    "        for establishment in top_establishments:\n",
    "            pprint(establishment)\n"
   ]
  },
  {
   "cell_type": "code",
   "execution_count": 17,
   "id": "cb698003",
   "metadata": {},
   "outputs": [
    {
     "name": "stdout",
     "output_type": "stream",
     "text": [
      "{'AddressLine1': 'Penang Flavours',\n",
      " 'AddressLine2': '146A Plumstead Rd',\n",
      " 'AddressLine3': 'London',\n",
      " 'AddressLine4': '',\n",
      " 'BusinessName': 'Penang Flavours',\n",
      " 'BusinessType': 'Restaurant/Cafe/Canteen',\n",
      " 'BusinessTypeID': '',\n",
      " 'Distance': 4623.972328074718,\n",
      " 'LocalAuthorityCode': '511',\n",
      " 'LocalAuthorityEmailAddress': 'health@royalgreenwich.gov.uk',\n",
      " 'LocalAuthorityName': 'Greenwich',\n",
      " 'LocalAuthorityWebSite': 'http://www.royalgreenwich.gov.uk',\n",
      " 'NewRatingPending': True,\n",
      " 'Phone': '',\n",
      " 'PostCode': 'SE18 7DY',\n",
      " 'RightToReply': '',\n",
      " 'SchemeType': 'FHRS',\n",
      " '_id': ObjectId('64ffdeda78890608ad7f8e25'),\n",
      " 'geocode': {'latitude': {}, 'longitude': {}},\n",
      " 'scores': {'ConfidenceInManagement': '', 'Hygiene': '', 'Structural': ''}}\n"
     ]
    }
   ],
   "source": [
    "penang_flavours = establishments.find_one({\"BusinessName\": \"Penang Flavours\"})\n",
    "pprint(penang_flavours)"
   ]
  },
  {
   "cell_type": "code",
   "execution_count": 18,
   "id": "11c3b9d5",
   "metadata": {},
   "outputs": [
    {
     "data": {
      "text/plain": [
       "<pymongo.results.UpdateResult at 0x2553b744340>"
      ]
     },
     "execution_count": 18,
     "metadata": {},
     "output_type": "execute_result"
    }
   ],
   "source": [
    "latitude = 51.49014200\n",
    "longitude = 0.08384000\n",
    "\n",
    "establishments.update_one(\n",
    "    {\"BusinessName\": \"Penang Flavours\"},\n",
    "    {\"$set\": {\"geocode.latitude\": latitude, \"geocode.longitude\": longitude}}\n",
    ")\n"
   ]
  },
  {
   "cell_type": "code",
   "execution_count": 20,
   "id": "a6ad16f7",
   "metadata": {},
   "outputs": [
    {
     "name": "stdout",
     "output_type": "stream",
     "text": [
      "Empty DataFrame\n",
      "Columns: []\n",
      "Index: []\n"
     ]
    }
   ],
   "source": [
    "# Convert result to Pandas DataFrame\n",
    "import pandas as pd\n",
    "\n",
    "# Assuming your top_establishments query is the same as above:\n",
    "penang_flavours = establishments.find_one({\"BusinessName\": \"Penang Flavours\"})\n",
    "latitude = penang_flavours[\"geocode\"][\"latitude\"]\n",
    "longitude = penang_flavours[\"geocode\"][\"longitude\"]\n",
    "\n",
    "top_establishments = establishments.find({\n",
    "    \"RatingValue\": 5,\n",
    "    \"Geocode.latitude\": {\"$gte\": latitude - 0.01, \"$lte\": latitude + 0.01},\n",
    "    \"Geocode.longitude\": {\"$gte\": longitude - 0.01, \"$lte\": longitude + 0.01}\n",
    "}).sort(\"HygieneScore\", 1).limit(5)\n",
    "\n",
    "# Convert the result to a DataFrame\n",
    "df = pd.DataFrame(list(top_establishments))\n",
    "\n",
    "# Display the first few rows of the DataFrame to verify\n",
    "print(df.head())\n"
   ]
  },
  {
   "cell_type": "markdown",
   "id": "67281254",
   "metadata": {},
   "source": [
    "### 4. How many establishments in each Local Authority area have a hygiene score of 0?"
   ]
  },
  {
   "cell_type": "code",
   "execution_count": 21,
   "id": "4eeb227e",
   "metadata": {},
   "outputs": [
    {
     "name": "stdout",
     "output_type": "stream",
     "text": [
      "Number of documents: 55\n",
      "{'_id': 'Thanet', 'count': 1130}\n",
      "{'_id': 'Greenwich', 'count': 882}\n",
      "{'_id': 'Maidstone', 'count': 713}\n",
      "{'_id': 'Newham', 'count': 711}\n",
      "{'_id': 'Swale', 'count': 686}\n",
      "{'_id': 'Chelmsford', 'count': 680}\n",
      "{'_id': 'Medway', 'count': 672}\n",
      "{'_id': 'Bexley', 'count': 607}\n",
      "{'_id': 'Southend-On-Sea', 'count': 586}\n",
      "{'_id': 'Tendring', 'count': 542}\n"
     ]
    }
   ],
   "source": [
    "# Create a pipeline that: \n",
    "# 1. Matches establishments with a hygiene score of 0\n",
    "# 2. Groups the matches by Local Authority\n",
    "# 3. Sorts the matches from highest to lowest\n",
    "pipeline = [\n",
    "    {\n",
    "        \"$match\": {\n",
    "            \"scores.Hygiene\": 0  # Assuming the hygiene score is stored under \"scores.Hygiene\"\n",
    "        }\n",
    "    },\n",
    "    {\n",
    "        \"$group\": {\n",
    "            \"_id\": \"$LocalAuthorityName\",  # Group by LocalAuthorityName\n",
    "            \"count\": {\"$sum\": 1}  # Count the number of establishments for each local authority\n",
    "        }\n",
    "    },\n",
    "    {\n",
    "        \"$sort\": {\n",
    "            \"count\": -1  # Sort in descending order by count\n",
    "        }\n",
    "    }\n",
    "]\n",
    "\n",
    "results = list(establishments.aggregate(pipeline))\n",
    "\n",
    "# Print the number of documents in the result\n",
    "print(f\"Number of documents: {len(results)}\")\n",
    "\n",
    "# Print the first 10 results\n",
    "for result in results[:10]:\n",
    "    print(result)"
   ]
  },
  {
   "cell_type": "code",
   "execution_count": 22,
   "id": "d8aab364",
   "metadata": {},
   "outputs": [
    {
     "name": "stdout",
     "output_type": "stream",
     "text": [
      "Number of rows: 55\n",
      "               _id  count\n",
      "0           Thanet   1130\n",
      "1        Greenwich    882\n",
      "2        Maidstone    713\n",
      "3           Newham    711\n",
      "4            Swale    686\n",
      "5       Chelmsford    680\n",
      "6           Medway    672\n",
      "7           Bexley    607\n",
      "8  Southend-On-Sea    586\n",
      "9         Tendring    542\n"
     ]
    }
   ],
   "source": [
    "# Convert the result to a Pandas DataFrame\n",
    "df = pd.DataFrame(results)\n",
    "\n",
    "# Display the number of rows in the DataFrame\n",
    "print(f\"Number of rows: {df.shape[0]}\")\n",
    "\n",
    "# Display the first 10 rows of the DataFrame\n",
    "print(df.head(10))"
   ]
  },
  {
   "cell_type": "code",
   "execution_count": null,
   "id": "00dd4744",
   "metadata": {},
   "outputs": [],
   "source": []
  }
 ],
 "metadata": {
  "kernelspec": {
   "display_name": "Python 3 (ipykernel)",
   "language": "python",
   "name": "python3"
  },
  "language_info": {
   "codemirror_mode": {
    "name": "ipython",
    "version": 3
   },
   "file_extension": ".py",
   "mimetype": "text/x-python",
   "name": "python",
   "nbconvert_exporter": "python",
   "pygments_lexer": "ipython3",
   "version": "3.10.9"
  }
 },
 "nbformat": 4,
 "nbformat_minor": 5
}
